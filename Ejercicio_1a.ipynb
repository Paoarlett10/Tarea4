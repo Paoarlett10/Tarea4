{
  "nbformat": 4,
  "nbformat_minor": 0,
  "metadata": {
    "colab": {
      "provenance": [],
      "authorship_tag": "ABX9TyOgQ6G5C4CqW/XBOBP1G+sb",
      "include_colab_link": true
    },
    "kernelspec": {
      "name": "python3",
      "display_name": "Python 3"
    },
    "language_info": {
      "name": "python"
    }
  },
  "cells": [
    {
      "cell_type": "markdown",
      "metadata": {
        "id": "view-in-github",
        "colab_type": "text"
      },
      "source": [
        "<a href=\"https://colab.research.google.com/github/Paoarlett10/Tarea4/blob/main/Ejercicio_1a.ipynb\" target=\"_parent\"><img src=\"https://colab.research.google.com/assets/colab-badge.svg\" alt=\"Open In Colab\"/></a>"
      ]
    },
    {
      "cell_type": "markdown",
      "source": [
        "# ejercicio 1.\n",
        "Vazquez Jimenez Arlett Paola"
      ],
      "metadata": {
        "id": "TWIz06Kp8KhG"
      }
    },
    {
      "cell_type": "markdown",
      "source": [
        "a) Método de bisección"
      ],
      "metadata": {
        "id": "GzQTcAzy8T0x"
      }
    },
    {
      "cell_type": "code",
      "execution_count": null,
      "metadata": {
        "id": "DXcE14Pz57uy"
      },
      "outputs": [],
      "source": [
        "from sympy import symbols, lambdify, sympify  # Importamos funciones de sympy para trabajar con expresiones simbólicas\n",
        "\n",
        "def metodo_biseccion():\n",
        "\n",
        "    # Solicita al usuario los datos necesarios para el método\n",
        "    funcion = input(\"Ingresa la función f(x): \")\n",
        "    a = float(input(\"Ingresa el inicio del intervalo (a): \"))\n",
        "    b = float(input(\"Ingresa el final del intervalo (b): \"))\n",
        "    tolerancia = float(input(\"Ingresa la tolerancia: \"))\n",
        "    max_iteraciones = int(input(\"Ingresa el número máximo de iteraciones: \"))\n",
        "\n",
        "    # Convertir la función introducida (en formato string) a una expresión simbólica\n",
        "    x = symbols('x')\n",
        "    funcion_ = sympify(funcion)  # Convierte el string a una expresión simbólica\n",
        "    f = lambdify(x, funcion_, 'numpy')  # Convierte la expresión en una función evaluable numéricamente\n",
        "\n",
        "    # Verificamos que la función cambie de signo en el intervalo [a, b]\n",
        "    # Si no hay cambio de signo, el método no es aplicable\n",
        "    if f(a) * f(b) > 0:\n",
        "        print(\"La función no cambia de signo en el intervalo dado. No se puede aplicar el método de Bisección.\")\n",
        "        return None\n",
        "\n",
        "    # Imprimimos encabezado de tabla\n",
        "    print(f\"\\n{'Iter':<6} {'a':<10} {'b':<10} {'m':<10} {'f(m)':<10} {'Error'}\")\n",
        "    print(\"-\"*60)\n",
        "\n",
        "    # Bucle del método de bisección\n",
        "    for i in range(1, max_iteraciones + 1):\n",
        "        m = (a + b) / 2  # Punto medio del intervalo\n",
        "        fm = f(m)        # Evaluamos la función en el punto medio\n",
        "        error = abs(b - a) / 2  # Error estimado\n",
        "\n",
        "        # Imprimimos los valores de la iteración\n",
        "        print(f\"{i:<6} {a:<10.6f} {b:<10.6f} {m:<10.6f} {fm:<10.6f} {error:.6f}\")\n",
        "\n",
        "        # Verificamos si el error está dentro de la tolerancia\n",
        "        if error < tolerancia:\n",
        "            print(f\"\\nAproximación encontrada: {m:.6f} con error < {tolerancia}\")\n",
        "            return m  # Si el error es menor que la tolerancia, se acepta m como raíz aproximada\n",
        "\n",
        "        # Verificamos en qué subintervalo sigue existiendo el cambio de signo\n",
        "        if f(a) * fm < 0:\n",
        "            b = m  # La raíz está en [a, m]\n",
        "        else:\n",
        "            a = m  # La raíz está en [m, b]\n",
        "\n",
        "    # Si se alcanzó el número máximo de iteraciones sin cumplir la tolerancia\n",
        "    print(\"No se encontró la raíz con la tolerancia dada.\")\n",
        "    return None\n",
        "\n",
        "# Ejecutar la función\n",
        "metodo_biseccion()"
      ]
    }
  ]
}