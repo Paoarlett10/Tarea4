{
  "nbformat": 4,
  "nbformat_minor": 0,
  "metadata": {
    "colab": {
      "provenance": [],
      "authorship_tag": "ABX9TyM1wxqPUO3RQ5NPNf7NbFv7",
      "include_colab_link": true
    },
    "kernelspec": {
      "name": "python3",
      "display_name": "Python 3"
    },
    "language_info": {
      "name": "python"
    }
  },
  "cells": [
    {
      "cell_type": "markdown",
      "metadata": {
        "id": "view-in-github",
        "colab_type": "text"
      },
      "source": [
        "<a href=\"https://colab.research.google.com/github/Paoarlett10/Tarea4/blob/main/Ejercicio_9b.ipynb\" target=\"_parent\"><img src=\"https://colab.research.google.com/assets/colab-badge.svg\" alt=\"Open In Colab\"/></a>"
      ]
    },
    {
      "cell_type": "markdown",
      "source": [
        "# ejercicio 9\n",
        "Vazquez Jimenez Arlett Paola"
      ],
      "metadata": {
        "id": "ofZeoqERgBNB"
      }
    },
    {
      "cell_type": "markdown",
      "source": [
        "Código Método de Newton"
      ],
      "metadata": {
        "id": "tRezAhaZgBEl"
      }
    },
    {
      "cell_type": "code",
      "source": [
        "# Importamos herramientas de sympy para simbolizar y evaluar funciones\n",
        "from sympy import symbols, sympify, lambdify\n",
        "\n",
        "def metodo_newton():\n",
        "    x = symbols('x')  # Definimos el símbolo x como variable\n",
        "    funcion = input(\"Ingresa la función f(x): \")  # Pedimos al usuario la función f(x) como string\n",
        "    funcion_ = sympify(funcion)  # Convertimos la cadena a una expresión simbólica de sympy\n",
        "    f = lambdify(x, funcion_, 'numpy')  # Convertimos la función simbólica a una función evaluable numéricamente\n",
        "\n",
        "    # Calculamos la derivada de la función\n",
        "    derivada_f = funcion_.diff(x)\n",
        "    print(f\"Derivada calculada automáticamente: {derivada_f}\")  # Mostramos la derivada\n",
        "    df = lambdify(x, derivada_f, 'numpy')  # Convertimos la derivada a función evaluable numéricamente\n",
        "\n",
        "    # Preguntamos al usuario si proporcionará un valor inicial o un intervalo\n",
        "    modo = input(\"¿Tienes un valor inicial (x) o un intervalo (i)? Escribe 'x' o 'i': \").strip().lower()\n",
        "\n",
        "    if modo == 'x':\n",
        "        # Si el usuario tiene un valor inicial\n",
        "        x0 = float(input(\"Ingresa el valor inicial x0: \"))\n",
        "    elif modo == 'i':\n",
        "        # Si el usuario tiene un intervalo\n",
        "        a = float(input(\"Ingresa el límite inferior a: \"))\n",
        "        b = float(input(\"Ingresa el límite superior b: \"))\n",
        "        # Verificamos que haya cambio de signo en el intervalo\n",
        "        if f(a) * f(b) >= 0:\n",
        "            print(\"El intervalo no garantiza raíz (f(a) * f(b) >= 0).\")\n",
        "            return  # Salimos si no hay cambio de signo\n",
        "        x0 = (a + b) / 2  # Tomamos el punto medio como valor inicial\n",
        "        print(f\"Usando x0 = (a + b)/2 = {x0}\")\n",
        "    else:\n",
        "        print(\"Entrada no válida.\")\n",
        "        return\n",
        "\n",
        "    # Solicitamos tolerancia y número máximo de iteraciones\n",
        "    tolerancia = float(input(\"Ingresa la tolerancia (ej. 1e-5): \"))\n",
        "    max_iteraciones = int(input(\"Máximo número de iteraciones: \"))\n",
        "\n",
        "    # Imprimimos encabezado de la tabla de iteraciones\n",
        "    print(\"\\n{:<10} {:>12} {:>12} {:>12} {:>12} {:>12}\".format(\n",
        "        \"Iteración\", \"x_k\", \"f(x_k)\", \"f'(x_k)\", \"x_k+1\", \"Error\"\n",
        "    ))\n",
        "    print(\"-\" * 74)\n",
        "\n",
        "    # Inicializamos xk con el valor inicial dado\n",
        "    xk = x0\n",
        "\n",
        "    # Bucle de iteración del método de Newton\n",
        "    for i in range(1, max_iteraciones + 1):\n",
        "        f_xk = f(xk)     # Evaluamos f(x_k)\n",
        "        df_xk = df(xk)   # Evaluamos f'(x_k)\n",
        "\n",
        "        # Verificamos que la derivada no sea cero\n",
        "        if df_xk == 0:\n",
        "            print(f\"Error: Derivada nula en iteración {i}. No se puede continuar.\")\n",
        "            return\n",
        "\n",
        "        # Aplicamos la fórmula de Newton\n",
        "        xk_1 = xk - f_xk / df_xk\n",
        "        error = abs(xk_1 - xk)\n",
        "\n",
        "        # Imprimimos los resultados de esta iteración\n",
        "        print(\"{:<10} {:>12.6f} {:>12.6f} {:>12.6f} {:>12.6f} {:>12.6f}\".format(\n",
        "            i, xk, f_xk, df_xk, xk_1, error\n",
        "        ))\n",
        "\n",
        "        # Verificamos si se alcanzó la tolerancia deseada\n",
        "        if error < tolerancia:\n",
        "            print(f\"\\n Raíz aproximada encontrada: {xk_1:.6f} con error < {tolerancia}\")\n",
        "            return  # Terminamos si el error es suficientemente pequeño\n",
        "\n",
        "        xk = xk_1  # Actualizamos el valor de x para la siguiente iteración\n",
        "\n",
        "    # Si se termina el ciclo sin alcanzar la tolerancia, se informa\n",
        "    print(\"\\n No se alcanzó la tolerancia requerida en el número de iteraciones dado.\")\n",
        "\n",
        "# Ejecutar la función\n",
        "# metodo_newton()\n"
      ],
      "metadata": {
        "id": "RTZ7UOPWl8yN"
      },
      "execution_count": 1,
      "outputs": []
    },
    {
      "cell_type": "markdown",
      "source": [
        "9.b\n",
        "\n",
        "2*x*cos(2*x) - (x-2)**2"
      ],
      "metadata": {
        "id": "t7AK9QipCwwF"
      }
    },
    {
      "cell_type": "markdown",
      "source": [
        "**intervalo 2 , 3**"
      ],
      "metadata": {
        "id": "A3pMyLEAt-XI"
      }
    },
    {
      "cell_type": "code",
      "source": [
        "metodo_newton()"
      ],
      "metadata": {
        "colab": {
          "base_uri": "https://localhost:8080/"
        },
        "id": "16TKcBe7uCIf",
        "outputId": "f0c067ec-f390-43b8-b116-b95791e8fe4b"
      },
      "execution_count": 2,
      "outputs": [
        {
          "output_type": "stream",
          "name": "stdout",
          "text": [
            "Ingresa la función f(x): 2*x*cos(2*x) - (x-2)**2\n",
            "Derivada calculada automáticamente: -4*x*sin(2*x) - 2*x + 2*cos(2*x) + 4\n",
            "¿Tienes un valor inicial (x) o un intervalo (i)? Escribe 'x' o 'i': i\n",
            "Ingresa el límite inferior a: 2\n",
            "Ingresa el límite superior b: 3\n",
            "Usando x0 = (a + b)/2 = 2.5\n",
            "Ingresa la tolerancia (ej. 1e-5): 0.00001\n",
            "Máximo número de iteraciones: 100\n",
            "\n",
            "Iteración           x_k       f(x_k)      f'(x_k)        x_k+1        Error\n",
            "--------------------------------------------------------------------------\n",
            "1              2.500000     1.168311     9.156567     2.372407     0.127593\n",
            "2              2.372407     0.015140     8.804666     2.370688     0.001719\n",
            "3              2.370688     0.000008     8.795357     2.370687     0.000001\n",
            "\n",
            " Raíz aproximada encontrada: 2.370687 con error < 1e-05\n"
          ]
        }
      ]
    },
    {
      "cell_type": "markdown",
      "source": [
        "**intervalo 3 , 4**"
      ],
      "metadata": {
        "id": "RqeBKDkruWAM"
      }
    },
    {
      "cell_type": "code",
      "source": [
        "metodo_newton()"
      ],
      "metadata": {
        "colab": {
          "base_uri": "https://localhost:8080/"
        },
        "id": "RiMDCQsiuZsp",
        "outputId": "3dc656f3-0252-4d9d-a0fc-9388cdcbb24e"
      },
      "execution_count": 4,
      "outputs": [
        {
          "output_type": "stream",
          "name": "stdout",
          "text": [
            "Ingresa la función f(x): 2*x*cos(2*x) - (x-2)**2\n",
            "Derivada calculada automáticamente: -4*x*sin(2*x) - 2*x + 2*cos(2*x) + 4\n",
            "¿Tienes un valor inicial (x) o un intervalo (i)? Escribe 'x' o 'i': i\n",
            "Ingresa el límite inferior a: 3\n",
            "Ingresa el límite superior b: 4\n",
            "Usando x0 = (a + b)/2 = 3.5\n",
            "Ingresa la tolerancia (ej. 1e-5): 0.00001\n",
            "Máximo número de iteraciones: 100\n",
            "\n",
            "Iteración           x_k       f(x_k)      f'(x_k)        x_k+1        Error\n",
            "--------------------------------------------------------------------------\n",
            "1              3.500000     3.027316   -10.690008     3.783191     0.283191\n",
            "2              3.783191    -1.033559   -17.510306     3.724165     0.059026\n",
            "3              3.724165    -0.033509   -16.346831     3.722115     0.002050\n",
            "4              3.722115    -0.000044   -16.303468     3.722113     0.000003\n",
            "\n",
            " Raíz aproximada encontrada: 3.722113 con error < 1e-05\n"
          ]
        }
      ]
    }
  ]
}