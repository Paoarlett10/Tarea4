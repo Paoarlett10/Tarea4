{
  "nbformat": 4,
  "nbformat_minor": 0,
  "metadata": {
    "colab": {
      "provenance": [],
      "authorship_tag": "ABX9TyMsNAz25kStaZM3onxrpm4i",
      "include_colab_link": true
    },
    "kernelspec": {
      "name": "python3",
      "display_name": "Python 3"
    },
    "language_info": {
      "name": "python"
    }
  },
  "cells": [
    {
      "cell_type": "markdown",
      "metadata": {
        "id": "view-in-github",
        "colab_type": "text"
      },
      "source": [
        "<a href=\"https://colab.research.google.com/github/Paoarlett10/Tarea4/blob/main/Ejercicio_4b.ipynb\" target=\"_parent\"><img src=\"https://colab.research.google.com/assets/colab-badge.svg\" alt=\"Open In Colab\"/></a>"
      ]
    },
    {
      "cell_type": "markdown",
      "source": [
        "# ejercicio 4\n",
        "Vazquez Jimenez Arlett Paola\n"
      ],
      "metadata": {
        "id": "bga2EjH7UIt0"
      }
    },
    {
      "cell_type": "markdown",
      "source": [
        "4b. x**2 - 3\n"
      ],
      "metadata": {
        "id": "KFo_JkmhUIgf"
      }
    },
    {
      "cell_type": "code",
      "source": [
        "from sympy import symbols, sympify, lambdify\n",
        "import numpy as np\n",
        "\n",
        "def biseccion_():\n",
        "    # Entrada del usuario\n",
        "    funcion = input(\"Ingresa la función f(x): \")\n",
        "    tolerancia = float(input(\"Ingresa la tolerancia: \"))\n",
        "    x = symbols('x')\n",
        "    funcion_ = sympify(funcion)\n",
        "    f = lambdify(x, funcion_, 'numpy')\n",
        "\n",
        "    # Buscar intervalo automáticamente en [0, 100]\n",
        "    a, b = None, None\n",
        "    for i in range(0, 100):\n",
        "        if f(i) * f(i + 1) < 0:\n",
        "            a, b = i, i + 1\n",
        "            break\n",
        "\n",
        "    if a is None:\n",
        "        print(\"No se encontró un intervalo adecuado en el rango [-100, 100].\")\n",
        "        return\n",
        "\n",
        "    print(f\"Intervalo encontrado automáticamente: a = {a}, b = {b}\")\n",
        "    print(f\"\\n{'Iter':<6} {'a':<10} {'b':<10} {'m':<10} {'f(m)':<10} {'Error'}\")\n",
        "    print(\"-\"*60)\n",
        "\n",
        "    # Método de Bisección\n",
        "    iteracion = 0\n",
        "    while True:\n",
        "        m = (a + b) / 2\n",
        "        fm = f(m)\n",
        "        error = abs(b - a) / 2\n",
        "        iteracion += 1\n",
        "\n",
        "        print(f\"{iteracion:<6} {a:<10.6f} {b:<10.6f} {m:<10.6f} {fm:<10.6f} {error:.6f}\")\n",
        "\n",
        "        if error < tolerancia or error < tolerancia:\n",
        "            print(f\"\\nAproximación encontrada: {m:.6f} con error < {tolerancia}\")\n",
        "            break\n",
        "\n",
        "        if f(a) * fm < 0:\n",
        "            b = m\n",
        "        else:\n",
        "            a = m\n",
        "\n",
        "# Ejecutar\n",
        "biseccion_()\n"
      ],
      "metadata": {
        "colab": {
          "base_uri": "https://localhost:8080/"
        },
        "id": "QPBonkchc4EX",
        "outputId": "25d151b2-7537-4705-ec03-1c76d7f839d6"
      },
      "execution_count": 1,
      "outputs": [
        {
          "output_type": "stream",
          "name": "stdout",
          "text": [
            "Ingresa la función f(x): x**2 -3\n",
            "Ingresa la tolerancia: 0.0001\n",
            "Intervalo encontrado automáticamente: a = 1, b = 2\n",
            "\n",
            "Iter   a          b          m          f(m)       Error\n",
            "------------------------------------------------------------\n",
            "1      1.000000   2.000000   1.500000   -0.750000  0.500000\n",
            "2      1.500000   2.000000   1.750000   0.062500   0.250000\n",
            "3      1.500000   1.750000   1.625000   -0.359375  0.125000\n",
            "4      1.625000   1.750000   1.687500   -0.152344  0.062500\n",
            "5      1.687500   1.750000   1.718750   -0.045898  0.031250\n",
            "6      1.718750   1.750000   1.734375   0.008057   0.015625\n",
            "7      1.718750   1.734375   1.726562   -0.018982  0.007812\n",
            "8      1.726562   1.734375   1.730469   -0.005478  0.003906\n",
            "9      1.730469   1.734375   1.732422   0.001286   0.001953\n",
            "10     1.730469   1.732422   1.731445   -0.002097  0.000977\n",
            "11     1.731445   1.732422   1.731934   -0.000406  0.000488\n",
            "12     1.731934   1.732422   1.732178   0.000440   0.000244\n",
            "13     1.731934   1.732178   1.732056   0.000017   0.000122\n",
            "14     1.731934   1.732056   1.731995   -0.000195  0.000061\n",
            "\n",
            "Aproximación encontrada: 1.731995 con error < 0.0001\n"
          ]
        }
      ]
    }
  ]
}