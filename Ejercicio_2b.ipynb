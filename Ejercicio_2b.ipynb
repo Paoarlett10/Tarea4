{
  "nbformat": 4,
  "nbformat_minor": 0,
  "metadata": {
    "colab": {
      "provenance": [],
      "authorship_tag": "ABX9TyPlGREy/pKF2tVdt8auD50w",
      "include_colab_link": true
    },
    "kernelspec": {
      "name": "python3",
      "display_name": "Python 3"
    },
    "language_info": {
      "name": "python"
    }
  },
  "cells": [
    {
      "cell_type": "markdown",
      "metadata": {
        "id": "view-in-github",
        "colab_type": "text"
      },
      "source": [
        "<a href=\"https://colab.research.google.com/github/Paoarlett10/Tarea4/blob/main/Ejercicio_2b.ipynb\" target=\"_parent\"><img src=\"https://colab.research.google.com/assets/colab-badge.svg\" alt=\"Open In Colab\"/></a>"
      ]
    },
    {
      "cell_type": "markdown",
      "source": [
        "# ejercicio 2\n",
        "\n",
        "Vazquez Jimenez Arlett Paola"
      ],
      "metadata": {
        "id": "_i7wuUtvnMeq"
      }
    },
    {
      "cell_type": "markdown",
      "source": [
        "código método de bisección"
      ],
      "metadata": {
        "id": "LtF1yDIknMSW"
      }
    },
    {
      "cell_type": "code",
      "execution_count": 2,
      "metadata": {
        "id": "lxJRrLtvnGWb"
      },
      "outputs": [],
      "source": [
        "from sympy import symbols, lambdify, sympify  # Importamos funciones de sympy para trabajar con expresiones simbólicas\n",
        "\n",
        "def metodo_biseccion():\n",
        "\n",
        "    # Solicita al usuario los datos necesarios para el método\n",
        "    funcion = input(\"Ingresa la función f(x): \")\n",
        "    a = float(input(\"Ingresa el inicio del intervalo (a): \"))\n",
        "    b = float(input(\"Ingresa el final del intervalo (b): \"))\n",
        "    tolerancia = float(input(\"Ingresa la tolerancia: \"))\n",
        "    max_iteraciones = int(input(\"Ingresa el número máximo de iteraciones: \"))\n",
        "\n",
        "    # Convertir la función introducida (en formato string) a una expresión simbólica\n",
        "    x = symbols('x')\n",
        "    funcion_ = sympify(funcion)  # Convierte el string a una expresión simbólica\n",
        "    f = lambdify(x, funcion_, 'numpy')  # Convierte la expresión en una función evaluable numéricamente\n",
        "\n",
        "    # Verificamos que la función cambie de signo en el intervalo [a, b]\n",
        "    # Si no hay cambio de signo, el método no es aplicable\n",
        "    if f(a) * f(b) > 0:\n",
        "        print(\"La función no cambia de signo en el intervalo dado. No se puede aplicar el método de Bisección.\")\n",
        "        return None\n",
        "\n",
        "    # Imprimimos encabezado de tabla\n",
        "    print(f\"\\n{'Iter':<6} {'a':<10} {'b':<10} {'m':<10} {'f(m)':<10} {'Error'}\")\n",
        "    print(\"-\"*60)\n",
        "\n",
        "    # Bucle del método de bisección\n",
        "    for i in range(1, max_iteraciones + 1):\n",
        "        m = (a + b) / 2  # Punto medio del intervalo\n",
        "        fm = f(m)        # Evaluamos la función en el punto medio\n",
        "        error = abs(b - a) / 2  # Error estimado\n",
        "\n",
        "        # Imprimimos los valores de la iteración\n",
        "        print(f\"{i:<6} {a:<10.6f} {b:<10.6f} {m:<10.6f} {fm:<10.6f} {error:.6f}\")\n",
        "\n",
        "        # Verificamos si el error está dentro de la tolerancia\n",
        "        if error < tolerancia:\n",
        "            print(f\"\\nAproximación encontrada: {m:.6f} con error < {tolerancia}\")\n",
        "            return m  # Si el error es menor que la tolerancia, se acepta m como raíz aproximada\n",
        "\n",
        "        # Verificamos en qué subintervalo sigue existiendo el cambio de signo\n",
        "        if f(a) * fm < 0:\n",
        "            b = m  # La raíz está en [a, m]\n",
        "        else:\n",
        "            a = m  # La raíz está en [m, b]\n",
        "\n",
        "    # Si se alcanzó el número máximo de iteraciones sin cumplir la tolerancia\n",
        "    print(\"No se encontró la raíz con la tolerancia dada.\")\n",
        "    return None\n",
        "\n",
        "# Ejecutar la función\n",
        "# metodo_biseccion()"
      ]
    },
    {
      "cell_type": "markdown",
      "source": [
        "2b. f(x) = 2*x*cos(2*x) - (x+1)**2"
      ],
      "metadata": {
        "id": "ggHgGzoKnfON"
      }
    },
    {
      "cell_type": "markdown",
      "source": [
        "**intervalo -3 , -2**"
      ],
      "metadata": {
        "id": "X48opI4aotHo"
      }
    },
    {
      "cell_type": "code",
      "source": [
        "metodo_biseccion()"
      ],
      "metadata": {
        "colab": {
          "base_uri": "https://localhost:8080/"
        },
        "id": "IX2PlX7tnexh",
        "outputId": "0904a615-2616-4d7b-921f-7aa04968cb45"
      },
      "execution_count": 3,
      "outputs": [
        {
          "output_type": "stream",
          "name": "stdout",
          "text": [
            "Ingresa la función f(x): 2*x*cos(2*x) - (x+1)**2\n",
            "Ingresa el inicio del intervalo (a): -3\n",
            "Ingresa el final del intervalo (b): -2\n",
            "Ingresa la tolerancia: 0.00001\n",
            "Ingresa el número máximo de iteraciones: 100\n",
            "\n",
            "Iter   a          b          m          f(m)       Error\n",
            "------------------------------------------------------------\n",
            "1      -3.000000  -2.000000  -2.500000  -3.668311  0.500000\n",
            "2      -2.500000  -2.000000  -2.250000  -0.613919  0.250000\n",
            "3      -2.250000  -2.000000  -2.125000  0.630247   0.125000\n",
            "4      -2.250000  -2.125000  -2.187500  0.038076   0.062500\n",
            "5      -2.250000  -2.187500  -2.218750  -0.280836  0.031250\n",
            "6      -2.218750  -2.187500  -2.203125  -0.119557  0.015625\n",
            "7      -2.203125  -2.187500  -2.195312  -0.040279  0.007812\n",
            "8      -2.195312  -2.187500  -2.191406  -0.000985  0.003906\n",
            "9      -2.191406  -2.187500  -2.189453  0.018574   0.001953\n",
            "10     -2.191406  -2.189453  -2.190430  0.008802   0.000977\n",
            "11     -2.191406  -2.190430  -2.190918  0.003910   0.000488\n",
            "12     -2.191406  -2.190918  -2.191162  0.001463   0.000244\n",
            "13     -2.191406  -2.191162  -2.191284  0.000239   0.000122\n",
            "14     -2.191406  -2.191284  -2.191345  -0.000373  0.000061\n",
            "15     -2.191345  -2.191284  -2.191315  -0.000067  0.000031\n",
            "16     -2.191315  -2.191284  -2.191299  0.000086   0.000015\n",
            "17     -2.191315  -2.191299  -2.191307  0.000009   0.000008\n",
            "\n",
            "Aproximación encontrada: -2.191307 con error < 1e-05\n"
          ]
        },
        {
          "output_type": "execute_result",
          "data": {
            "text/plain": [
              "-2.1913070678710938"
            ]
          },
          "metadata": {},
          "execution_count": 3
        }
      ]
    },
    {
      "cell_type": "markdown",
      "source": [
        "**intervalo -1 , 0**"
      ],
      "metadata": {
        "id": "iDugB5B2pT1U"
      }
    },
    {
      "cell_type": "code",
      "source": [
        "metodo_biseccion()"
      ],
      "metadata": {
        "colab": {
          "base_uri": "https://localhost:8080/"
        },
        "id": "Rna-kw-3pXfX",
        "outputId": "9f225d75-ed1d-46dd-a67e-5eb20139ccd5"
      },
      "execution_count": 4,
      "outputs": [
        {
          "output_type": "stream",
          "name": "stdout",
          "text": [
            "Ingresa la función f(x): 2*x*cos(2*x) - (x+1)**2\n",
            "Ingresa el inicio del intervalo (a): -1\n",
            "Ingresa el final del intervalo (b): 0\n",
            "Ingresa la tolerancia: 0.00001\n",
            "Ingresa el número máximo de iteraciones: 100\n",
            "\n",
            "Iter   a          b          m          f(m)       Error\n",
            "------------------------------------------------------------\n",
            "1      -1.000000  0.000000   -0.500000  -0.790302  0.500000\n",
            "2      -1.000000  -0.500000  -0.750000  -0.168606  0.250000\n",
            "3      -1.000000  -0.750000  -0.875000  0.296306   0.125000\n",
            "4      -0.875000  -0.750000  -0.812500  0.052882   0.062500\n",
            "5      -0.812500  -0.750000  -0.781250  -0.060814  0.031250\n",
            "6      -0.812500  -0.781250  -0.796875  -0.004681  0.015625\n",
            "7      -0.812500  -0.796875  -0.804688  0.023925   0.007812\n",
            "8      -0.804688  -0.796875  -0.800781  0.009578   0.003906\n",
            "9      -0.800781  -0.796875  -0.798828  0.002438   0.001953\n",
            "10     -0.798828  -0.796875  -0.797852  -0.001124  0.000977\n",
            "11     -0.798828  -0.797852  -0.798340  0.000656   0.000488\n",
            "12     -0.798340  -0.797852  -0.798096  -0.000234  0.000244\n",
            "13     -0.798340  -0.798096  -0.798218  0.000211   0.000122\n",
            "14     -0.798218  -0.798096  -0.798157  -0.000012  0.000061\n",
            "15     -0.798218  -0.798157  -0.798187  0.000100   0.000031\n",
            "16     -0.798187  -0.798157  -0.798172  0.000044   0.000015\n",
            "17     -0.798172  -0.798157  -0.798164  0.000016   0.000008\n",
            "\n",
            "Aproximación encontrada: -0.798164 con error < 1e-05\n"
          ]
        },
        {
          "output_type": "execute_result",
          "data": {
            "text/plain": [
              "-0.7981643676757812"
            ]
          },
          "metadata": {},
          "execution_count": 4
        }
      ]
    }
  ]
}