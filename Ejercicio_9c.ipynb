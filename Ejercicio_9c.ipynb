{
  "nbformat": 4,
  "nbformat_minor": 0,
  "metadata": {
    "colab": {
      "provenance": [],
      "authorship_tag": "ABX9TyPqi9WDBrJ/Oh+KFbKW4aee",
      "include_colab_link": true
    },
    "kernelspec": {
      "name": "python3",
      "display_name": "Python 3"
    },
    "language_info": {
      "name": "python"
    }
  },
  "cells": [
    {
      "cell_type": "markdown",
      "metadata": {
        "id": "view-in-github",
        "colab_type": "text"
      },
      "source": [
        "<a href=\"https://colab.research.google.com/github/Paoarlett10/Tarea4/blob/main/Ejercicio_9c.ipynb\" target=\"_parent\"><img src=\"https://colab.research.google.com/assets/colab-badge.svg\" alt=\"Open In Colab\"/></a>"
      ]
    },
    {
      "cell_type": "markdown",
      "source": [
        "# ejercicio 9\n",
        "Vazquez Jimenez Arlett Paola"
      ],
      "metadata": {
        "id": "ofZeoqERgBNB"
      }
    },
    {
      "cell_type": "markdown",
      "source": [
        "Código Método de Newton"
      ],
      "metadata": {
        "id": "tRezAhaZgBEl"
      }
    },
    {
      "cell_type": "code",
      "source": [
        "# Importamos herramientas de sympy para simbolizar y evaluar funciones\n",
        "from sympy import symbols, sympify, lambdify\n",
        "\n",
        "def metodo_newton():\n",
        "    x = symbols('x')  # Definimos el símbolo x como variable\n",
        "    funcion = input(\"Ingresa la función f(x): \")  # Pedimos al usuario la función f(x) como string\n",
        "    funcion_ = sympify(funcion)  # Convertimos la cadena a una expresión simbólica de sympy\n",
        "    f = lambdify(x, funcion_, 'numpy')  # Convertimos la función simbólica a una función evaluable numéricamente\n",
        "\n",
        "    # Calculamos la derivada de la función\n",
        "    derivada_f = funcion_.diff(x)\n",
        "    print(f\"Derivada calculada automáticamente: {derivada_f}\")  # Mostramos la derivada\n",
        "    df = lambdify(x, derivada_f, 'numpy')  # Convertimos la derivada a función evaluable numéricamente\n",
        "\n",
        "    # Preguntamos al usuario si proporcionará un valor inicial o un intervalo\n",
        "    modo = input(\"¿Tienes un valor inicial (x) o un intervalo (i)? Escribe 'x' o 'i': \").strip().lower()\n",
        "\n",
        "    if modo == 'x':\n",
        "        # Si el usuario tiene un valor inicial\n",
        "        x0 = float(input(\"Ingresa el valor inicial x0: \"))\n",
        "    elif modo == 'i':\n",
        "        # Si el usuario tiene un intervalo\n",
        "        a = float(input(\"Ingresa el límite inferior a: \"))\n",
        "        b = float(input(\"Ingresa el límite superior b: \"))\n",
        "        # Verificamos que haya cambio de signo en el intervalo\n",
        "        if f(a) * f(b) >= 0:\n",
        "            print(\"El intervalo no garantiza raíz (f(a) * f(b) >= 0).\")\n",
        "            return  # Salimos si no hay cambio de signo\n",
        "        x0 = (a + b) / 2  # Tomamos el punto medio como valor inicial\n",
        "        print(f\"Usando x0 = (a + b)/2 = {x0}\")\n",
        "    else:\n",
        "        print(\"Entrada no válida.\")\n",
        "        return\n",
        "\n",
        "    # Solicitamos tolerancia y número máximo de iteraciones\n",
        "    tolerancia = float(input(\"Ingresa la tolerancia (ej. 1e-5): \"))\n",
        "    max_iteraciones = int(input(\"Máximo número de iteraciones: \"))\n",
        "\n",
        "    # Imprimimos encabezado de la tabla de iteraciones\n",
        "    print(\"\\n{:<10} {:>12} {:>12} {:>12} {:>12} {:>12}\".format(\n",
        "        \"Iteración\", \"x_k\", \"f(x_k)\", \"f'(x_k)\", \"x_k+1\", \"Error\"\n",
        "    ))\n",
        "    print(\"-\" * 74)\n",
        "\n",
        "    # Inicializamos xk con el valor inicial dado\n",
        "    xk = x0\n",
        "\n",
        "    # Bucle de iteración del método de Newton\n",
        "    for i in range(1, max_iteraciones + 1):\n",
        "        f_xk = f(xk)     # Evaluamos f(x_k)\n",
        "        df_xk = df(xk)   # Evaluamos f'(x_k)\n",
        "\n",
        "        # Verificamos que la derivada no sea cero\n",
        "        if df_xk == 0:\n",
        "            print(f\"Error: Derivada nula en iteración {i}. No se puede continuar.\")\n",
        "            return\n",
        "\n",
        "        # Aplicamos la fórmula de Newton\n",
        "        xk_1 = xk - f_xk / df_xk\n",
        "        error = abs(xk_1 - xk)\n",
        "\n",
        "        # Imprimimos los resultados de esta iteración\n",
        "        print(\"{:<10} {:>12.6f} {:>12.6f} {:>12.6f} {:>12.6f} {:>12.6f}\".format(\n",
        "            i, xk, f_xk, df_xk, xk_1, error\n",
        "        ))\n",
        "\n",
        "        # Verificamos si se alcanzó la tolerancia deseada\n",
        "        if error < tolerancia:\n",
        "            print(f\"\\n Raíz aproximada encontrada: {xk_1:.6f} con error < {tolerancia}\")\n",
        "            return  # Terminamos si el error es suficientemente pequeño\n",
        "\n",
        "        xk = xk_1  # Actualizamos el valor de x para la siguiente iteración\n",
        "\n",
        "    # Si se termina el ciclo sin alcanzar la tolerancia, se informa\n",
        "    print(\"\\n No se alcanzó la tolerancia requerida en el número de iteraciones dado.\")\n",
        "\n",
        "# Ejecutar la función\n",
        "# metodo_newton()\n"
      ],
      "metadata": {
        "id": "RTZ7UOPWl8yN"
      },
      "execution_count": 1,
      "outputs": []
    },
    {
      "cell_type": "markdown",
      "source": [
        "9c.  \n",
        "exp(x) - 3*x**2"
      ],
      "metadata": {
        "id": "Gb_Gm4waDZ1L"
      }
    },
    {
      "cell_type": "markdown",
      "source": [
        "**intervalo 0 , 1**"
      ],
      "metadata": {
        "id": "us-tA-PCvDqo"
      }
    },
    {
      "cell_type": "code",
      "source": [
        "metodo_newton()"
      ],
      "metadata": {
        "colab": {
          "base_uri": "https://localhost:8080/"
        },
        "id": "bl8CYp44s1dd",
        "outputId": "6c0cd8e2-20f4-4743-eb1a-2c67f8bb118c"
      },
      "execution_count": 2,
      "outputs": [
        {
          "output_type": "stream",
          "name": "stdout",
          "text": [
            "Ingresa la función f(x): exp(x) - 3*x**2\n",
            "Derivada calculada automáticamente: -6*x + exp(x)\n",
            "¿Tienes un valor inicial (x) o un intervalo (i)? Escribe 'x' o 'i': i\n",
            "Ingresa el límite inferior a: 0\n",
            "Ingresa el límite superior b: 1\n",
            "Usando x0 = (a + b)/2 = 0.5\n",
            "Ingresa la tolerancia (ej. 1e-5): 0.00001\n",
            "Máximo número de iteraciones: 100\n",
            "\n",
            "Iteración           x_k       f(x_k)      f'(x_k)        x_k+1        Error\n",
            "--------------------------------------------------------------------------\n",
            "1              0.500000     0.898721    -1.351279     1.165089     0.665089\n",
            "2              1.165089    -0.866091    -3.784327     0.936227     0.228863\n",
            "3              0.936227    -0.079222    -3.067021     0.910397     0.025830\n",
            "4              0.910397    -0.001158    -2.977072     0.910008     0.000389\n",
            "5              0.910008    -0.000000    -2.975704     0.910008     0.000000\n",
            "\n",
            " Raíz aproximada encontrada: 0.910008 con error < 1e-05\n"
          ]
        }
      ]
    },
    {
      "cell_type": "markdown",
      "source": [
        "**intervalo 3 , 5**"
      ],
      "metadata": {
        "id": "jqUH6OXvvgyg"
      }
    },
    {
      "cell_type": "code",
      "source": [
        "metodo_newton()"
      ],
      "metadata": {
        "colab": {
          "base_uri": "https://localhost:8080/"
        },
        "id": "AGnqz09avj9W",
        "outputId": "9d2ee33a-9b52-48a4-8f7e-f9cf91b8063a"
      },
      "execution_count": 3,
      "outputs": [
        {
          "output_type": "stream",
          "name": "stdout",
          "text": [
            "Ingresa la función f(x): exp(x) - 3*x**2\n",
            "Derivada calculada automáticamente: -6*x + exp(x)\n",
            "¿Tienes un valor inicial (x) o un intervalo (i)? Escribe 'x' o 'i': i\n",
            "Ingresa el límite inferior a: 3\n",
            "Ingresa el límite superior b: 5\n",
            "Usando x0 = (a + b)/2 = 4.0\n",
            "Ingresa la tolerancia (ej. 1e-5): 0.00001\n",
            "Máximo número de iteraciones: 100\n",
            "\n",
            "Iteración           x_k       f(x_k)      f'(x_k)        x_k+1        Error\n",
            "--------------------------------------------------------------------------\n",
            "1              4.000000     6.598150    30.598150     3.784361     0.215639\n",
            "2              3.784361     1.043379    21.301380     3.735379     0.048982\n",
            "3              3.735379     0.044743    19.491644     3.733084     0.002295\n",
            "4              3.733084     0.000095    19.409337     3.733079     0.000005\n",
            "\n",
            " Raíz aproximada encontrada: 3.733079 con error < 1e-05\n"
          ]
        }
      ]
    }
  ]
}