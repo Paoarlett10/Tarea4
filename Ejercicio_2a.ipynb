{
  "nbformat": 4,
  "nbformat_minor": 0,
  "metadata": {
    "colab": {
      "provenance": [],
      "authorship_tag": "ABX9TyOAj+Oyd7qzPOgIwhfyxymL",
      "include_colab_link": true
    },
    "kernelspec": {
      "name": "python3",
      "display_name": "Python 3"
    },
    "language_info": {
      "name": "python"
    }
  },
  "cells": [
    {
      "cell_type": "markdown",
      "metadata": {
        "id": "view-in-github",
        "colab_type": "text"
      },
      "source": [
        "<a href=\"https://colab.research.google.com/github/Paoarlett10/Tarea4/blob/main/Ejercicio_2a.ipynb\" target=\"_parent\"><img src=\"https://colab.research.google.com/assets/colab-badge.svg\" alt=\"Open In Colab\"/></a>"
      ]
    },
    {
      "cell_type": "markdown",
      "source": [
        "# ejercicio 2\n",
        "\n",
        "Vazquez Jimenez Arlett Paola"
      ],
      "metadata": {
        "id": "_i7wuUtvnMeq"
      }
    },
    {
      "cell_type": "markdown",
      "source": [
        "código método de bisección"
      ],
      "metadata": {
        "id": "LtF1yDIknMSW"
      }
    },
    {
      "cell_type": "code",
      "execution_count": 1,
      "metadata": {
        "id": "lxJRrLtvnGWb"
      },
      "outputs": [],
      "source": [
        "from sympy import symbols, lambdify, sympify  # Importamos funciones de sympy para trabajar con expresiones simbólicas\n",
        "\n",
        "def metodo_biseccion():\n",
        "\n",
        "    # Solicita al usuario los datos necesarios para el método\n",
        "    funcion = input(\"Ingresa la función f(x): \")\n",
        "    a = float(input(\"Ingresa el inicio del intervalo (a): \"))\n",
        "    b = float(input(\"Ingresa el final del intervalo (b): \"))\n",
        "    tolerancia = float(input(\"Ingresa la tolerancia: \"))\n",
        "    max_iteraciones = int(input(\"Ingresa el número máximo de iteraciones: \"))\n",
        "\n",
        "    # Convertir la función introducida (en formato string) a una expresión simbólica\n",
        "    x = symbols('x')\n",
        "    funcion_ = sympify(funcion)  # Convierte el string a una expresión simbólica\n",
        "    f = lambdify(x, funcion_, 'numpy')  # Convierte la expresión en una función evaluable numéricamente\n",
        "\n",
        "    # Verificamos que la función cambie de signo en el intervalo [a, b]\n",
        "    # Si no hay cambio de signo, el método no es aplicable\n",
        "    if f(a) * f(b) > 0:\n",
        "        print(\"La función no cambia de signo en el intervalo dado. No se puede aplicar el método de Bisección.\")\n",
        "        return None\n",
        "\n",
        "    # Imprimimos encabezado de tabla\n",
        "    print(f\"\\n{'Iter':<6} {'a':<10} {'b':<10} {'m':<10} {'f(m)':<10} {'Error'}\")\n",
        "    print(\"-\"*60)\n",
        "\n",
        "    # Bucle del método de bisección\n",
        "    for i in range(1, max_iteraciones + 1):\n",
        "        m = (a + b) / 2  # Punto medio del intervalo\n",
        "        fm = f(m)        # Evaluamos la función en el punto medio\n",
        "        error = abs(b - a) / 2  # Error estimado\n",
        "\n",
        "        # Imprimimos los valores de la iteración\n",
        "        print(f\"{i:<6} {a:<10.6f} {b:<10.6f} {m:<10.6f} {fm:<10.6f} {error:.6f}\")\n",
        "\n",
        "        # Verificamos si el error está dentro de la tolerancia\n",
        "        if error < tolerancia:\n",
        "            print(f\"\\nAproximación encontrada: {m:.6f} con error < {tolerancia}\")\n",
        "            return m  # Si el error es menor que la tolerancia, se acepta m como raíz aproximada\n",
        "\n",
        "        # Verificamos en qué subintervalo sigue existiendo el cambio de signo\n",
        "        if f(a) * fm < 0:\n",
        "            b = m  # La raíz está en [a, m]\n",
        "        else:\n",
        "            a = m  # La raíz está en [m, b]\n",
        "\n",
        "    # Si se alcanzó el número máximo de iteraciones sin cumplir la tolerancia\n",
        "    print(\"No se encontró la raíz con la tolerancia dada.\")\n",
        "    return None\n",
        "\n",
        "# Ejecutar la función\n",
        "# metodo_biseccion()"
      ]
    },
    {
      "cell_type": "markdown",
      "source": [
        "2a. f(x) = x - 2**-x"
      ],
      "metadata": {
        "id": "ggHgGzoKnfON"
      }
    },
    {
      "cell_type": "code",
      "source": [
        "metodo_biseccion()"
      ],
      "metadata": {
        "colab": {
          "base_uri": "https://localhost:8080/"
        },
        "id": "IX2PlX7tnexh",
        "outputId": "8e3e17e5-f131-484b-a10f-81455ced10cc"
      },
      "execution_count": 2,
      "outputs": [
        {
          "output_type": "stream",
          "name": "stdout",
          "text": [
            "Ingresa la función f(x): x - 2**-x\n",
            "Ingresa el inicio del intervalo (a): 0\n",
            "Ingresa el final del intervalo (b): 1\n",
            "Ingresa la tolerancia: 0.00001\n",
            "Ingresa el número máximo de iteraciones: 100\n",
            "\n",
            "Iter   a          b          m          f(m)       Error\n",
            "------------------------------------------------------------\n",
            "1      0.000000   1.000000   0.500000   -0.207107  0.500000\n",
            "2      0.500000   1.000000   0.750000   0.155396   0.250000\n",
            "3      0.500000   0.750000   0.625000   -0.023420  0.125000\n",
            "4      0.625000   0.750000   0.687500   0.066571   0.062500\n",
            "5      0.625000   0.687500   0.656250   0.021725   0.031250\n",
            "6      0.625000   0.656250   0.640625   -0.000810  0.015625\n",
            "7      0.640625   0.656250   0.648438   0.010467   0.007812\n",
            "8      0.640625   0.648438   0.644531   0.004831   0.003906\n",
            "9      0.640625   0.644531   0.642578   0.002011   0.001953\n",
            "10     0.640625   0.642578   0.641602   0.000601   0.000977\n",
            "11     0.640625   0.641602   0.641113   -0.000105  0.000488\n",
            "12     0.641113   0.641602   0.641357   0.000248   0.000244\n",
            "13     0.641113   0.641357   0.641235   0.000072   0.000122\n",
            "14     0.641113   0.641235   0.641174   -0.000017  0.000061\n",
            "15     0.641174   0.641235   0.641205   0.000028   0.000031\n",
            "16     0.641174   0.641205   0.641190   0.000006   0.000015\n",
            "17     0.641174   0.641190   0.641182   -0.000005  0.000008\n",
            "\n",
            "Aproximación encontrada: 0.641182 con error < 1e-05\n"
          ]
        },
        {
          "output_type": "execute_result",
          "data": {
            "text/plain": [
              "0.6411819458007812"
            ]
          },
          "metadata": {},
          "execution_count": 2
        }
      ]
    }
  ]
}